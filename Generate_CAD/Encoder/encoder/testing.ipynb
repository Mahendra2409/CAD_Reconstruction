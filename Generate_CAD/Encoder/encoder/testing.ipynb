{
 "cells": [
  {
   "cell_type": "code",
   "execution_count": 8,
   "id": "1ca3ef22",
   "metadata": {},
   "outputs": [],
   "source": [
    "file_path = r'dataset\\00001_00020000104343_j_00001.pt'"
   ]
  },
  {
   "cell_type": "code",
   "execution_count": 10,
   "id": "ba2ab605",
   "metadata": {},
   "outputs": [],
   "source": [
    "loaded_data = torch.load(file_path, weights_only=False)"
   ]
  },
  {
   "cell_type": "code",
   "execution_count": 16,
   "id": "76161686",
   "metadata": {},
   "outputs": [
    {
     "name": "stdout",
     "output_type": "stream",
     "text": [
      "Data(x=[36, 316], edge_index=[2, 630], edge_attr=[630, 8])\n"
     ]
    }
   ],
   "source": [
    "print(loaded_data)"
   ]
  },
  {
   "cell_type": "code",
   "execution_count": null,
   "id": "37ad3097",
   "metadata": {},
   "outputs": [],
   "source": []
  }
 ],
 "metadata": {
  "kernelspec": {
   "display_name": ".venv",
   "language": "python",
   "name": "python3"
  },
  "language_info": {
   "codemirror_mode": {
    "name": "ipython",
    "version": 3
   },
   "file_extension": ".py",
   "mimetype": "text/x-python",
   "name": "python",
   "nbconvert_exporter": "python",
   "pygments_lexer": "ipython3",
   "version": "3.10.11"
  }
 },
 "nbformat": 4,
 "nbformat_minor": 5
}
