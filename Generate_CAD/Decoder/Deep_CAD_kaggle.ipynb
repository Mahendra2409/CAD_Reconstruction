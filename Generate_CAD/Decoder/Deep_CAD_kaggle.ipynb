{
 "cells": [
  {
   "cell_type": "code",
   "execution_count": 1,
   "id": "e1b92416",
   "metadata": {},
   "outputs": [
    {
     "name": "stdout",
     "output_type": "stream",
     "text": [
      "Cloning into 'DeepCAD'...\n",
      "remote: Enumerating objects: 112, done.\u001b[K\n",
      "remote: Counting objects: 100% (100/100), done.\u001b[K\n",
      "remote: Compressing objects: 100% (69/69), done.\u001b[K\n",
      "remote: Total 112 (delta 33), reused 76 (delta 29), pack-reused 12 (from 1)\u001b[K\n",
      "Receiving objects: 100% (112/112), 253.97 KiB | 8.76 MiB/s, done.\n",
      "Resolving deltas: 100% (33/33), done.\n"
     ]
    }
   ],
   "source": [
    "!git clone https://github.com/ChrisWu1997/DeepCAD.git"
   ]
  },
  {
   "cell_type": "code",
   "execution_count": 3,
   "id": "24056dbe",
   "metadata": {},
   "outputs": [],
   "source": [
    "!cd DeepCAD"
   ]
  },
  {
   "cell_type": "code",
   "execution_count": 5,
   "id": "87c644e2",
   "metadata": {},
   "outputs": [
    {
     "name": "stdout",
     "output_type": "stream",
     "text": [
      "Collecting Cython==0.29.13 (from -r DeepCAD/requirements.txt (line 1))\n",
      "  Downloading Cython-0.29.13.tar.gz (2.1 MB)\n",
      "\u001b[2K     \u001b[90m━━━━━━━━━━━━━━━━━━━━━━━━━━━━━━━━━━━━━━━━\u001b[0m \u001b[32m2.1/2.1 MB\u001b[0m \u001b[31m35.0 MB/s\u001b[0m eta \u001b[36m0:00:00\u001b[0m00:01\u001b[0m00:01\u001b[0m\n",
      "\u001b[?25h  Preparing metadata (setup.py) ... \u001b[?25l  \u001b[1;31merror\u001b[0m: \u001b[1msubprocess-exited-with-error\u001b[0m\n",
      "  \n",
      "  \u001b[31m×\u001b[0m \u001b[32mpython setup.py egg_info\u001b[0m did not run successfully.\n",
      "  \u001b[31m│\u001b[0m exit code: \u001b[1;36m1\u001b[0m\n",
      "  \u001b[31m╰─>\u001b[0m See above for output.\n",
      "  \n",
      "  \u001b[1;35mnote\u001b[0m: This error originates from a subprocess, and is likely not a problem with pip.\n",
      "\u001b[?25herror\n",
      "\u001b[1;31merror\u001b[0m: \u001b[1mmetadata-generation-failed\u001b[0m\n",
      "\n",
      "\u001b[31m×\u001b[0m Encountered error while generating package metadata.\n",
      "\u001b[31m╰─>\u001b[0m See above for output.\n",
      "\n",
      "\u001b[1;35mnote\u001b[0m: This is an issue with the package mentioned above, not pip.\n",
      "\u001b[1;36mhint\u001b[0m: See above for details.\n"
     ]
    }
   ],
   "source": [
    "!pip install -r DeepCAD/requirements.txt"
   ]
  },
  {
   "cell_type": "code",
   "execution_count": null,
   "id": "033251bb",
   "metadata": {},
   "outputs": [],
   "source": []
  },
  {
   "cell_type": "code",
   "execution_count": 12,
   "id": "fed92f8a",
   "metadata": {},
   "outputs": [
    {
     "name": "stdout",
     "output_type": "stream",
     "text": [
      "tensor([[[1., 1., 1.],\n",
      "         [1., 1., 1.],\n",
      "         [1., 1., 1.],\n",
      "         [1., 1., 1.],\n",
      "         [1., 1., 1.],\n",
      "         [1., 1., 1.]],\n",
      "\n",
      "        [[1., 1., 1.],\n",
      "         [1., 1., 1.],\n",
      "         [1., 1., 1.],\n",
      "         [1., 1., 1.],\n",
      "         [1., 1., 1.],\n",
      "         [1., 1., 1.]],\n",
      "\n",
      "        [[1., 1., 1.],\n",
      "         [1., 1., 1.],\n",
      "         [1., 1., 1.],\n",
      "         [1., 1., 1.],\n",
      "         [1., 1., 1.],\n",
      "         [1., 1., 1.]],\n",
      "\n",
      "        [[1., 1., 1.],\n",
      "         [1., 1., 1.],\n",
      "         [1., 1., 1.],\n",
      "         [1., 1., 1.],\n",
      "         [1., 1., 1.],\n",
      "         [1., 1., 1.]],\n",
      "\n",
      "        [[1., 1., 1.],\n",
      "         [1., 1., 1.],\n",
      "         [1., 1., 1.],\n",
      "         [1., 1., 1.],\n",
      "         [1., 1., 1.],\n",
      "         [1., 1., 1.]]])\n",
      "tensor([[[0., 0., 0.]],\n",
      "\n",
      "        [[0., 0., 0.]],\n",
      "\n",
      "        [[0., 0., 0.]],\n",
      "\n",
      "        [[0., 0., 0.]],\n",
      "\n",
      "        [[0., 0., 0.]]])\n"
     ]
    }
   ],
   "source": [
    "import torch\n",
    "k = torch.ones(5,6, 3)\n",
    "print(k)\n",
    "t = torch.zeros(5,1, 3)\n",
    "print(t)"
   ]
  },
  {
   "cell_type": "code",
   "execution_count": 11,
   "id": "16d2eee3",
   "metadata": {},
   "outputs": [
    {
     "name": "stdout",
     "output_type": "stream",
     "text": [
      "torch.Size([3])\n"
     ]
    }
   ],
   "source": [
    "size = t.size()[1:]\n",
    "print(size)"
   ]
  },
  {
   "cell_type": "code",
   "execution_count": 14,
   "id": "8bd28d5c",
   "metadata": {},
   "outputs": [
    {
     "name": "stdout",
     "output_type": "stream",
     "text": [
      "tensor([[[1., 1., 1.],\n",
      "         [1., 1., 1.],\n",
      "         [1., 1., 1.],\n",
      "         [1., 1., 1.],\n",
      "         [1., 1., 1.],\n",
      "         [1., 1., 1.],\n",
      "         [0., 0., 0.]],\n",
      "\n",
      "        [[1., 1., 1.],\n",
      "         [1., 1., 1.],\n",
      "         [1., 1., 1.],\n",
      "         [1., 1., 1.],\n",
      "         [1., 1., 1.],\n",
      "         [1., 1., 1.],\n",
      "         [0., 0., 0.]],\n",
      "\n",
      "        [[1., 1., 1.],\n",
      "         [1., 1., 1.],\n",
      "         [1., 1., 1.],\n",
      "         [1., 1., 1.],\n",
      "         [1., 1., 1.],\n",
      "         [1., 1., 1.],\n",
      "         [0., 0., 0.]],\n",
      "\n",
      "        [[1., 1., 1.],\n",
      "         [1., 1., 1.],\n",
      "         [1., 1., 1.],\n",
      "         [1., 1., 1.],\n",
      "         [1., 1., 1.],\n",
      "         [1., 1., 1.],\n",
      "         [0., 0., 0.]],\n",
      "\n",
      "        [[1., 1., 1.],\n",
      "         [1., 1., 1.],\n",
      "         [1., 1., 1.],\n",
      "         [1., 1., 1.],\n",
      "         [1., 1., 1.],\n",
      "         [1., 1., 1.],\n",
      "         [0., 0., 0.]]])\n"
     ]
    }
   ],
   "source": [
    "c =torch.cat((k, t), dim=1)\n",
    "print(c)"
   ]
  },
  {
   "cell_type": "code",
   "execution_count": 21,
   "id": "461eca74",
   "metadata": {},
   "outputs": [],
   "source": [
    "a, = [[1, 2, 3]]"
   ]
  },
  {
   "cell_type": "code",
   "execution_count": 22,
   "id": "73ffdc46",
   "metadata": {},
   "outputs": [
    {
     "data": {
      "text/plain": [
       "[1, 2, 3]"
      ]
     },
     "execution_count": 22,
     "metadata": {},
     "output_type": "execute_result"
    }
   ],
   "source": [
    "a"
   ]
  },
  {
   "cell_type": "code",
   "execution_count": 34,
   "id": "57e32dbd",
   "metadata": {},
   "outputs": [
    {
     "name": "stdout",
     "output_type": "stream",
     "text": [
      "tensor([[ True, False,  True],\n",
      "        [ True, False,  True],\n",
      "        [ True,  True, False],\n",
      "        [ True, False, False],\n",
      "        [False, False,  True]])\n",
      "tensor([[1, 1, 2],\n",
      "        [1, 1, 2],\n",
      "        [1, 2, 2],\n",
      "        [1, 1, 1],\n",
      "        [0, 0, 1]])\n"
     ]
    }
   ],
   "source": [
    "r = torch.randn(5,  3)>0\n",
    "print(r)\n",
    "print(r.cumsum(1))"
   ]
  },
  {
   "cell_type": "code",
   "execution_count": null,
   "id": "0dd04cbe",
   "metadata": {},
   "outputs": [
    {
     "name": "stdout",
     "output_type": "stream",
     "text": [
      "a:  [1, 2, 3, [11, 22, 33], [44, 55, 66]]\n",
      "b:  [100, 2, 3, [200, 22, 33], [44, 55, 66]]\n"
     ]
    }
   ],
   "source": [
    "import copy\n",
    "x = [11, 22, 33]\n",
    "y = [44, 55, 66]\n",
    "a = [ 1, 2, 3, x, y]\n",
    "\n",
    "# b =a.copy()\n",
    "b = copy.deepcopy(a)\n",
    "\n",
    "b[0] = 100\n",
    "b[3][0] = 200\n",
    "print('a: ', a)\n",
    "print('b: ', b)"
   ]
  },
  {
   "cell_type": "code",
   "execution_count": 5,
   "id": "a8098c53",
   "metadata": {},
   "outputs": [
    {
     "data": {
      "text/plain": [
       "dict_values([1, 45, 3])"
      ]
     },
     "execution_count": 5,
     "metadata": {},
     "output_type": "execute_result"
    }
   ],
   "source": [
    "d = {1: 1, \"a\": 45, 3: 3}\n",
    "d.values()"
   ]
  },
  {
   "cell_type": "code",
   "execution_count": 40,
   "id": "c65a8c0c",
   "metadata": {},
   "outputs": [],
   "source": [
    "def cycle(iterable):\n",
    "    y=0\n",
    "    while True:        \n",
    "        for x in iterable:\n",
    "            y+=x\n",
    "            yield (x**2)/0.878979 + y**2"
   ]
  },
  {
   "cell_type": "code",
   "execution_count": null,
   "id": "a75334a3",
   "metadata": {},
   "outputs": [
    {
     "name": "stdout",
     "output_type": "stream",
     "text": [
      "<generator object cycle at 0x0000018C6CF207B0>\n"
     ]
    }
   ],
   "source": [
    "a = [1, 2, 3]\n",
    "inp = None\n",
    "while True:\n",
    "    inp = input(\"Enter a number (or 'q' to quit): \")\n",
    "    if inp != \"q\":\n",
    "        print(cycle(a))"
   ]
  },
  {
   "cell_type": "code",
   "execution_count": 1,
   "id": "0a8b8c26",
   "metadata": {},
   "outputs": [],
   "source": [
    "def cycle(iterable):  \n",
    "    for x in iterable:\n",
    "        yield x"
   ]
  },
  {
   "cell_type": "code",
   "execution_count": 41,
   "id": "505c14dc",
   "metadata": {},
   "outputs": [],
   "source": [
    "gen = cycle([1, 2, 3])"
   ]
  },
  {
   "cell_type": "code",
   "execution_count": null,
   "id": "88b04255",
   "metadata": {},
   "outputs": [],
   "source": []
  }
 ],
 "metadata": {
  "kernelspec": {
   "display_name": ".venv",
   "language": "python",
   "name": "python3"
  },
  "language_info": {
   "codemirror_mode": {
    "name": "ipython",
    "version": 3
   },
   "file_extension": ".py",
   "mimetype": "text/x-python",
   "name": "python",
   "nbconvert_exporter": "python",
   "pygments_lexer": "ipython3",
   "version": "3.10.11"
  }
 },
 "nbformat": 4,
 "nbformat_minor": 5
}
